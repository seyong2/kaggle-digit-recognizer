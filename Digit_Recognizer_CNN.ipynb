{
  "nbformat": 4,
  "nbformat_minor": 0,
  "metadata": {
    "colab": {
      "provenance": [],
      "authorship_tag": "ABX9TyMh5X2ssFn6u1SpmrUNaQuP",
      "include_colab_link": true
    },
    "kernelspec": {
      "name": "python3",
      "display_name": "Python 3"
    },
    "language_info": {
      "name": "python"
    },
    "accelerator": "GPU",
    "gpuClass": "standard"
  },
  "cells": [
    {
      "cell_type": "markdown",
      "metadata": {
        "id": "view-in-github",
        "colab_type": "text"
      },
      "source": [
        "<a href=\"https://colab.research.google.com/github/seyong2/kaggle-digit-recognizer/blob/main/Digit_Recognizer_CNN.ipynb\" target=\"_parent\"><img src=\"https://colab.research.google.com/assets/colab-badge.svg\" alt=\"Open In Colab\"/></a>"
      ]
    },
    {
      "cell_type": "markdown",
      "source": [
        "This notebook is an extension of a previous notebook whose goal was to correctly identify digits in a dataset of tens of thousands of handwritten images published by the \"Modified National Institute of Standards and Technology\" (MNIST). Although we used a very simple neural network and the algorithm achieves high generalization performance, we will create a convolutional neural network (CNN) to see if it can improve the neural network model. You can read more about this digit recognizer competition [here](https://www.kaggle.com/competitions/digit-recognizer/overview).\n",
        "\n",
        "Then let's get started by importing all the necessary libraries and data."
      ],
      "metadata": {
        "id": "1FS3gPIHEVRw"
      }
    },
    {
      "cell_type": "markdown",
      "source": [
        "# 1. Import Python libraries and Data"
      ],
      "metadata": {
        "id": "KHl0Eq9ymVVF"
      }
    },
    {
      "cell_type": "code",
      "source": [
        "import numpy as np\n",
        "import pandas as pd\n",
        "\n",
        "# visualization\n",
        "import matplotlib.pyplot as plt\n",
        "%matplotlib inline\n",
        "\n",
        "import random\n",
        "! pip install torchmetrics\n",
        "import torch, torchmetrics\n",
        "from torch import nn\n",
        "from torch.utils.data import DataLoader\n",
        "from torchvision import transforms"
      ],
      "metadata": {
        "id": "k32cVw-Vk2s9",
        "colab": {
          "base_uri": "https://localhost:8080/"
        },
        "outputId": "d9125756-2cba-4633-cb7a-d25df0d9a930"
      },
      "execution_count": 1,
      "outputs": [
        {
          "output_type": "stream",
          "name": "stdout",
          "text": [
            "Looking in indexes: https://pypi.org/simple, https://us-python.pkg.dev/colab-wheels/public/simple/\n",
            "Collecting torchmetrics\n",
            "  Downloading torchmetrics-0.11.0-py3-none-any.whl (512 kB)\n",
            "\u001b[K     |████████████████████████████████| 512 kB 34.4 MB/s \n",
            "\u001b[?25hRequirement already satisfied: packaging in /usr/local/lib/python3.8/dist-packages (from torchmetrics) (21.3)\n",
            "Requirement already satisfied: numpy>=1.17.2 in /usr/local/lib/python3.8/dist-packages (from torchmetrics) (1.21.6)\n",
            "Requirement already satisfied: torch>=1.8.1 in /usr/local/lib/python3.8/dist-packages (from torchmetrics) (1.13.0+cu116)\n",
            "Requirement already satisfied: typing-extensions in /usr/local/lib/python3.8/dist-packages (from torchmetrics) (4.4.0)\n",
            "Requirement already satisfied: pyparsing!=3.0.5,>=2.0.2 in /usr/local/lib/python3.8/dist-packages (from packaging->torchmetrics) (3.0.9)\n",
            "Installing collected packages: torchmetrics\n",
            "Successfully installed torchmetrics-0.11.0\n"
          ]
        }
      ]
    },
    {
      "cell_type": "code",
      "execution_count": 2,
      "metadata": {
        "colab": {
          "base_uri": "https://localhost:8080/"
        },
        "id": "njCSZfnLi2lN",
        "outputId": "6c1b0191-d0ad-40fa-c1ad-113a92f9a24a"
      },
      "outputs": [
        {
          "output_type": "stream",
          "name": "stdout",
          "text": [
            "Looking in indexes: https://pypi.org/simple, https://us-python.pkg.dev/colab-wheels/public/simple/\n",
            "Requirement already satisfied: kaggle in /usr/local/lib/python3.8/dist-packages (1.5.12)\n",
            "Requirement already satisfied: urllib3 in /usr/local/lib/python3.8/dist-packages (from kaggle) (1.24.3)\n",
            "Requirement already satisfied: six>=1.10 in /usr/local/lib/python3.8/dist-packages (from kaggle) (1.15.0)\n",
            "Requirement already satisfied: requests in /usr/local/lib/python3.8/dist-packages (from kaggle) (2.23.0)\n",
            "Requirement already satisfied: python-dateutil in /usr/local/lib/python3.8/dist-packages (from kaggle) (2.8.2)\n",
            "Requirement already satisfied: tqdm in /usr/local/lib/python3.8/dist-packages (from kaggle) (4.64.1)\n",
            "Requirement already satisfied: certifi in /usr/local/lib/python3.8/dist-packages (from kaggle) (2022.9.24)\n",
            "Requirement already satisfied: python-slugify in /usr/local/lib/python3.8/dist-packages (from kaggle) (7.0.0)\n",
            "Requirement already satisfied: text-unidecode>=1.3 in /usr/local/lib/python3.8/dist-packages (from python-slugify->kaggle) (1.3)\n",
            "Requirement already satisfied: idna<3,>=2.5 in /usr/local/lib/python3.8/dist-packages (from requests->kaggle) (2.10)\n",
            "Requirement already satisfied: chardet<4,>=3.0.2 in /usr/local/lib/python3.8/dist-packages (from requests->kaggle) (3.0.4)\n",
            "Downloading digit-recognizer.zip to /content\n",
            " 98% 15.0M/15.3M [00:01<00:00, 17.4MB/s]\n",
            "100% 15.3M/15.3M [00:01<00:00, 9.64MB/s]\n",
            "Archive:  digit-recognizer.zip\n",
            "  inflating: sample_submission.csv   \n",
            "  inflating: test.csv                \n",
            "  inflating: train.csv               \n"
          ]
        }
      ],
      "source": [
        "# Install the Kaggle library\n",
        "! pip install kaggle\n",
        "\n",
        "# Make a directory named \".kaggle\"\n",
        "! mkdir ~/.kaggle\n",
        "\n",
        "# Copy the \"kaggle.json\" into this new directory\n",
        "! cp kaggle.json ~/.kaggle/\n",
        "\n",
        "# Allocate the required permission for this file\n",
        "! chmod 600 ~/.kaggle/kaggle.json\n",
        "\n",
        "! kaggle competitions download -c digit-recognizer\n",
        "\n",
        "! unzip digit-recognizer.zip"
      ]
    },
    {
      "cell_type": "markdown",
      "source": [
        "# 2. Load Training and Testing Data"
      ],
      "metadata": {
        "id": "il8ny8zZqr_Z"
      }
    },
    {
      "cell_type": "code",
      "source": [
        "# read 'train.csv' and 'test.csv' which are comma-separated values (csv) file into DataFrame.\n",
        "train_df = pd.read_csv('train.csv')\n",
        "test_df = pd.read_csv('test.csv')"
      ],
      "metadata": {
        "id": "hccJne5Bm0WH"
      },
      "execution_count": 3,
      "outputs": []
    },
    {
      "cell_type": "code",
      "source": [
        "# see the shape of train_df and test_df\n",
        "print(f\"The training data has {train_df.shape[0]} rows and {train_df.shape[1]} columns.\")\n",
        "print(f\"The testing data has {test_df.shape[0]} rows and {test_df.shape[1]} columns.\")"
      ],
      "metadata": {
        "colab": {
          "base_uri": "https://localhost:8080/"
        },
        "id": "F6hVUmg4nDt0",
        "outputId": "a681514a-842e-4fe3-9d6d-57334db27d03"
      },
      "execution_count": 4,
      "outputs": [
        {
          "output_type": "stream",
          "name": "stdout",
          "text": [
            "The training data has 42000 rows and 785 columns.\n",
            "The testing data has 28000 rows and 784 columns.\n"
          ]
        }
      ]
    },
    {
      "cell_type": "code",
      "source": [
        "# the first five rows of train_df\n",
        "train_df.head()"
      ],
      "metadata": {
        "colab": {
          "base_uri": "https://localhost:8080/",
          "height": 299
        },
        "id": "DlWZkn4OnKJF",
        "outputId": "06cb220f-43bc-4ee0-b074-1adfba7f2fde"
      },
      "execution_count": 5,
      "outputs": [
        {
          "output_type": "execute_result",
          "data": {
            "text/plain": [
              "   label  pixel0  pixel1  pixel2  pixel3  pixel4  pixel5  pixel6  pixel7  \\\n",
              "0      1       0       0       0       0       0       0       0       0   \n",
              "1      0       0       0       0       0       0       0       0       0   \n",
              "2      1       0       0       0       0       0       0       0       0   \n",
              "3      4       0       0       0       0       0       0       0       0   \n",
              "4      0       0       0       0       0       0       0       0       0   \n",
              "\n",
              "   pixel8  ...  pixel774  pixel775  pixel776  pixel777  pixel778  pixel779  \\\n",
              "0       0  ...         0         0         0         0         0         0   \n",
              "1       0  ...         0         0         0         0         0         0   \n",
              "2       0  ...         0         0         0         0         0         0   \n",
              "3       0  ...         0         0         0         0         0         0   \n",
              "4       0  ...         0         0         0         0         0         0   \n",
              "\n",
              "   pixel780  pixel781  pixel782  pixel783  \n",
              "0         0         0         0         0  \n",
              "1         0         0         0         0  \n",
              "2         0         0         0         0  \n",
              "3         0         0         0         0  \n",
              "4         0         0         0         0  \n",
              "\n",
              "[5 rows x 785 columns]"
            ],
            "text/html": [
              "\n",
              "  <div id=\"df-e3643a06-ed57-4a4d-b4e9-c1ef6e5e8be4\">\n",
              "    <div class=\"colab-df-container\">\n",
              "      <div>\n",
              "<style scoped>\n",
              "    .dataframe tbody tr th:only-of-type {\n",
              "        vertical-align: middle;\n",
              "    }\n",
              "\n",
              "    .dataframe tbody tr th {\n",
              "        vertical-align: top;\n",
              "    }\n",
              "\n",
              "    .dataframe thead th {\n",
              "        text-align: right;\n",
              "    }\n",
              "</style>\n",
              "<table border=\"1\" class=\"dataframe\">\n",
              "  <thead>\n",
              "    <tr style=\"text-align: right;\">\n",
              "      <th></th>\n",
              "      <th>label</th>\n",
              "      <th>pixel0</th>\n",
              "      <th>pixel1</th>\n",
              "      <th>pixel2</th>\n",
              "      <th>pixel3</th>\n",
              "      <th>pixel4</th>\n",
              "      <th>pixel5</th>\n",
              "      <th>pixel6</th>\n",
              "      <th>pixel7</th>\n",
              "      <th>pixel8</th>\n",
              "      <th>...</th>\n",
              "      <th>pixel774</th>\n",
              "      <th>pixel775</th>\n",
              "      <th>pixel776</th>\n",
              "      <th>pixel777</th>\n",
              "      <th>pixel778</th>\n",
              "      <th>pixel779</th>\n",
              "      <th>pixel780</th>\n",
              "      <th>pixel781</th>\n",
              "      <th>pixel782</th>\n",
              "      <th>pixel783</th>\n",
              "    </tr>\n",
              "  </thead>\n",
              "  <tbody>\n",
              "    <tr>\n",
              "      <th>0</th>\n",
              "      <td>1</td>\n",
              "      <td>0</td>\n",
              "      <td>0</td>\n",
              "      <td>0</td>\n",
              "      <td>0</td>\n",
              "      <td>0</td>\n",
              "      <td>0</td>\n",
              "      <td>0</td>\n",
              "      <td>0</td>\n",
              "      <td>0</td>\n",
              "      <td>...</td>\n",
              "      <td>0</td>\n",
              "      <td>0</td>\n",
              "      <td>0</td>\n",
              "      <td>0</td>\n",
              "      <td>0</td>\n",
              "      <td>0</td>\n",
              "      <td>0</td>\n",
              "      <td>0</td>\n",
              "      <td>0</td>\n",
              "      <td>0</td>\n",
              "    </tr>\n",
              "    <tr>\n",
              "      <th>1</th>\n",
              "      <td>0</td>\n",
              "      <td>0</td>\n",
              "      <td>0</td>\n",
              "      <td>0</td>\n",
              "      <td>0</td>\n",
              "      <td>0</td>\n",
              "      <td>0</td>\n",
              "      <td>0</td>\n",
              "      <td>0</td>\n",
              "      <td>0</td>\n",
              "      <td>...</td>\n",
              "      <td>0</td>\n",
              "      <td>0</td>\n",
              "      <td>0</td>\n",
              "      <td>0</td>\n",
              "      <td>0</td>\n",
              "      <td>0</td>\n",
              "      <td>0</td>\n",
              "      <td>0</td>\n",
              "      <td>0</td>\n",
              "      <td>0</td>\n",
              "    </tr>\n",
              "    <tr>\n",
              "      <th>2</th>\n",
              "      <td>1</td>\n",
              "      <td>0</td>\n",
              "      <td>0</td>\n",
              "      <td>0</td>\n",
              "      <td>0</td>\n",
              "      <td>0</td>\n",
              "      <td>0</td>\n",
              "      <td>0</td>\n",
              "      <td>0</td>\n",
              "      <td>0</td>\n",
              "      <td>...</td>\n",
              "      <td>0</td>\n",
              "      <td>0</td>\n",
              "      <td>0</td>\n",
              "      <td>0</td>\n",
              "      <td>0</td>\n",
              "      <td>0</td>\n",
              "      <td>0</td>\n",
              "      <td>0</td>\n",
              "      <td>0</td>\n",
              "      <td>0</td>\n",
              "    </tr>\n",
              "    <tr>\n",
              "      <th>3</th>\n",
              "      <td>4</td>\n",
              "      <td>0</td>\n",
              "      <td>0</td>\n",
              "      <td>0</td>\n",
              "      <td>0</td>\n",
              "      <td>0</td>\n",
              "      <td>0</td>\n",
              "      <td>0</td>\n",
              "      <td>0</td>\n",
              "      <td>0</td>\n",
              "      <td>...</td>\n",
              "      <td>0</td>\n",
              "      <td>0</td>\n",
              "      <td>0</td>\n",
              "      <td>0</td>\n",
              "      <td>0</td>\n",
              "      <td>0</td>\n",
              "      <td>0</td>\n",
              "      <td>0</td>\n",
              "      <td>0</td>\n",
              "      <td>0</td>\n",
              "    </tr>\n",
              "    <tr>\n",
              "      <th>4</th>\n",
              "      <td>0</td>\n",
              "      <td>0</td>\n",
              "      <td>0</td>\n",
              "      <td>0</td>\n",
              "      <td>0</td>\n",
              "      <td>0</td>\n",
              "      <td>0</td>\n",
              "      <td>0</td>\n",
              "      <td>0</td>\n",
              "      <td>0</td>\n",
              "      <td>...</td>\n",
              "      <td>0</td>\n",
              "      <td>0</td>\n",
              "      <td>0</td>\n",
              "      <td>0</td>\n",
              "      <td>0</td>\n",
              "      <td>0</td>\n",
              "      <td>0</td>\n",
              "      <td>0</td>\n",
              "      <td>0</td>\n",
              "      <td>0</td>\n",
              "    </tr>\n",
              "  </tbody>\n",
              "</table>\n",
              "<p>5 rows × 785 columns</p>\n",
              "</div>\n",
              "      <button class=\"colab-df-convert\" onclick=\"convertToInteractive('df-e3643a06-ed57-4a4d-b4e9-c1ef6e5e8be4')\"\n",
              "              title=\"Convert this dataframe to an interactive table.\"\n",
              "              style=\"display:none;\">\n",
              "        \n",
              "  <svg xmlns=\"http://www.w3.org/2000/svg\" height=\"24px\"viewBox=\"0 0 24 24\"\n",
              "       width=\"24px\">\n",
              "    <path d=\"M0 0h24v24H0V0z\" fill=\"none\"/>\n",
              "    <path d=\"M18.56 5.44l.94 2.06.94-2.06 2.06-.94-2.06-.94-.94-2.06-.94 2.06-2.06.94zm-11 1L8.5 8.5l.94-2.06 2.06-.94-2.06-.94L8.5 2.5l-.94 2.06-2.06.94zm10 10l.94 2.06.94-2.06 2.06-.94-2.06-.94-.94-2.06-.94 2.06-2.06.94z\"/><path d=\"M17.41 7.96l-1.37-1.37c-.4-.4-.92-.59-1.43-.59-.52 0-1.04.2-1.43.59L10.3 9.45l-7.72 7.72c-.78.78-.78 2.05 0 2.83L4 21.41c.39.39.9.59 1.41.59.51 0 1.02-.2 1.41-.59l7.78-7.78 2.81-2.81c.8-.78.8-2.07 0-2.86zM5.41 20L4 18.59l7.72-7.72 1.47 1.35L5.41 20z\"/>\n",
              "  </svg>\n",
              "      </button>\n",
              "      \n",
              "  <style>\n",
              "    .colab-df-container {\n",
              "      display:flex;\n",
              "      flex-wrap:wrap;\n",
              "      gap: 12px;\n",
              "    }\n",
              "\n",
              "    .colab-df-convert {\n",
              "      background-color: #E8F0FE;\n",
              "      border: none;\n",
              "      border-radius: 50%;\n",
              "      cursor: pointer;\n",
              "      display: none;\n",
              "      fill: #1967D2;\n",
              "      height: 32px;\n",
              "      padding: 0 0 0 0;\n",
              "      width: 32px;\n",
              "    }\n",
              "\n",
              "    .colab-df-convert:hover {\n",
              "      background-color: #E2EBFA;\n",
              "      box-shadow: 0px 1px 2px rgba(60, 64, 67, 0.3), 0px 1px 3px 1px rgba(60, 64, 67, 0.15);\n",
              "      fill: #174EA6;\n",
              "    }\n",
              "\n",
              "    [theme=dark] .colab-df-convert {\n",
              "      background-color: #3B4455;\n",
              "      fill: #D2E3FC;\n",
              "    }\n",
              "\n",
              "    [theme=dark] .colab-df-convert:hover {\n",
              "      background-color: #434B5C;\n",
              "      box-shadow: 0px 1px 3px 1px rgba(0, 0, 0, 0.15);\n",
              "      filter: drop-shadow(0px 1px 2px rgba(0, 0, 0, 0.3));\n",
              "      fill: #FFFFFF;\n",
              "    }\n",
              "  </style>\n",
              "\n",
              "      <script>\n",
              "        const buttonEl =\n",
              "          document.querySelector('#df-e3643a06-ed57-4a4d-b4e9-c1ef6e5e8be4 button.colab-df-convert');\n",
              "        buttonEl.style.display =\n",
              "          google.colab.kernel.accessAllowed ? 'block' : 'none';\n",
              "\n",
              "        async function convertToInteractive(key) {\n",
              "          const element = document.querySelector('#df-e3643a06-ed57-4a4d-b4e9-c1ef6e5e8be4');\n",
              "          const dataTable =\n",
              "            await google.colab.kernel.invokeFunction('convertToInteractive',\n",
              "                                                     [key], {});\n",
              "          if (!dataTable) return;\n",
              "\n",
              "          const docLinkHtml = 'Like what you see? Visit the ' +\n",
              "            '<a target=\"_blank\" href=https://colab.research.google.com/notebooks/data_table.ipynb>data table notebook</a>'\n",
              "            + ' to learn more about interactive tables.';\n",
              "          element.innerHTML = '';\n",
              "          dataTable['output_type'] = 'display_data';\n",
              "          await google.colab.output.renderOutput(dataTable, element);\n",
              "          const docLink = document.createElement('div');\n",
              "          docLink.innerHTML = docLinkHtml;\n",
              "          element.appendChild(docLink);\n",
              "        }\n",
              "      </script>\n",
              "    </div>\n",
              "  </div>\n",
              "  "
            ]
          },
          "metadata": {},
          "execution_count": 5
        }
      ]
    },
    {
      "cell_type": "code",
      "source": [
        "# the first five rows of test_df\n",
        "test_df.head()"
      ],
      "metadata": {
        "colab": {
          "base_uri": "https://localhost:8080/",
          "height": 299
        },
        "id": "6aNW-C3_IDDa",
        "outputId": "6ca8f0a7-434d-4eac-df8b-3222d5bf7994"
      },
      "execution_count": 6,
      "outputs": [
        {
          "output_type": "execute_result",
          "data": {
            "text/plain": [
              "   pixel0  pixel1  pixel2  pixel3  pixel4  pixel5  pixel6  pixel7  pixel8  \\\n",
              "0       0       0       0       0       0       0       0       0       0   \n",
              "1       0       0       0       0       0       0       0       0       0   \n",
              "2       0       0       0       0       0       0       0       0       0   \n",
              "3       0       0       0       0       0       0       0       0       0   \n",
              "4       0       0       0       0       0       0       0       0       0   \n",
              "\n",
              "   pixel9  ...  pixel774  pixel775  pixel776  pixel777  pixel778  pixel779  \\\n",
              "0       0  ...         0         0         0         0         0         0   \n",
              "1       0  ...         0         0         0         0         0         0   \n",
              "2       0  ...         0         0         0         0         0         0   \n",
              "3       0  ...         0         0         0         0         0         0   \n",
              "4       0  ...         0         0         0         0         0         0   \n",
              "\n",
              "   pixel780  pixel781  pixel782  pixel783  \n",
              "0         0         0         0         0  \n",
              "1         0         0         0         0  \n",
              "2         0         0         0         0  \n",
              "3         0         0         0         0  \n",
              "4         0         0         0         0  \n",
              "\n",
              "[5 rows x 784 columns]"
            ],
            "text/html": [
              "\n",
              "  <div id=\"df-90898740-1033-4aa9-98c7-62356325834b\">\n",
              "    <div class=\"colab-df-container\">\n",
              "      <div>\n",
              "<style scoped>\n",
              "    .dataframe tbody tr th:only-of-type {\n",
              "        vertical-align: middle;\n",
              "    }\n",
              "\n",
              "    .dataframe tbody tr th {\n",
              "        vertical-align: top;\n",
              "    }\n",
              "\n",
              "    .dataframe thead th {\n",
              "        text-align: right;\n",
              "    }\n",
              "</style>\n",
              "<table border=\"1\" class=\"dataframe\">\n",
              "  <thead>\n",
              "    <tr style=\"text-align: right;\">\n",
              "      <th></th>\n",
              "      <th>pixel0</th>\n",
              "      <th>pixel1</th>\n",
              "      <th>pixel2</th>\n",
              "      <th>pixel3</th>\n",
              "      <th>pixel4</th>\n",
              "      <th>pixel5</th>\n",
              "      <th>pixel6</th>\n",
              "      <th>pixel7</th>\n",
              "      <th>pixel8</th>\n",
              "      <th>pixel9</th>\n",
              "      <th>...</th>\n",
              "      <th>pixel774</th>\n",
              "      <th>pixel775</th>\n",
              "      <th>pixel776</th>\n",
              "      <th>pixel777</th>\n",
              "      <th>pixel778</th>\n",
              "      <th>pixel779</th>\n",
              "      <th>pixel780</th>\n",
              "      <th>pixel781</th>\n",
              "      <th>pixel782</th>\n",
              "      <th>pixel783</th>\n",
              "    </tr>\n",
              "  </thead>\n",
              "  <tbody>\n",
              "    <tr>\n",
              "      <th>0</th>\n",
              "      <td>0</td>\n",
              "      <td>0</td>\n",
              "      <td>0</td>\n",
              "      <td>0</td>\n",
              "      <td>0</td>\n",
              "      <td>0</td>\n",
              "      <td>0</td>\n",
              "      <td>0</td>\n",
              "      <td>0</td>\n",
              "      <td>0</td>\n",
              "      <td>...</td>\n",
              "      <td>0</td>\n",
              "      <td>0</td>\n",
              "      <td>0</td>\n",
              "      <td>0</td>\n",
              "      <td>0</td>\n",
              "      <td>0</td>\n",
              "      <td>0</td>\n",
              "      <td>0</td>\n",
              "      <td>0</td>\n",
              "      <td>0</td>\n",
              "    </tr>\n",
              "    <tr>\n",
              "      <th>1</th>\n",
              "      <td>0</td>\n",
              "      <td>0</td>\n",
              "      <td>0</td>\n",
              "      <td>0</td>\n",
              "      <td>0</td>\n",
              "      <td>0</td>\n",
              "      <td>0</td>\n",
              "      <td>0</td>\n",
              "      <td>0</td>\n",
              "      <td>0</td>\n",
              "      <td>...</td>\n",
              "      <td>0</td>\n",
              "      <td>0</td>\n",
              "      <td>0</td>\n",
              "      <td>0</td>\n",
              "      <td>0</td>\n",
              "      <td>0</td>\n",
              "      <td>0</td>\n",
              "      <td>0</td>\n",
              "      <td>0</td>\n",
              "      <td>0</td>\n",
              "    </tr>\n",
              "    <tr>\n",
              "      <th>2</th>\n",
              "      <td>0</td>\n",
              "      <td>0</td>\n",
              "      <td>0</td>\n",
              "      <td>0</td>\n",
              "      <td>0</td>\n",
              "      <td>0</td>\n",
              "      <td>0</td>\n",
              "      <td>0</td>\n",
              "      <td>0</td>\n",
              "      <td>0</td>\n",
              "      <td>...</td>\n",
              "      <td>0</td>\n",
              "      <td>0</td>\n",
              "      <td>0</td>\n",
              "      <td>0</td>\n",
              "      <td>0</td>\n",
              "      <td>0</td>\n",
              "      <td>0</td>\n",
              "      <td>0</td>\n",
              "      <td>0</td>\n",
              "      <td>0</td>\n",
              "    </tr>\n",
              "    <tr>\n",
              "      <th>3</th>\n",
              "      <td>0</td>\n",
              "      <td>0</td>\n",
              "      <td>0</td>\n",
              "      <td>0</td>\n",
              "      <td>0</td>\n",
              "      <td>0</td>\n",
              "      <td>0</td>\n",
              "      <td>0</td>\n",
              "      <td>0</td>\n",
              "      <td>0</td>\n",
              "      <td>...</td>\n",
              "      <td>0</td>\n",
              "      <td>0</td>\n",
              "      <td>0</td>\n",
              "      <td>0</td>\n",
              "      <td>0</td>\n",
              "      <td>0</td>\n",
              "      <td>0</td>\n",
              "      <td>0</td>\n",
              "      <td>0</td>\n",
              "      <td>0</td>\n",
              "    </tr>\n",
              "    <tr>\n",
              "      <th>4</th>\n",
              "      <td>0</td>\n",
              "      <td>0</td>\n",
              "      <td>0</td>\n",
              "      <td>0</td>\n",
              "      <td>0</td>\n",
              "      <td>0</td>\n",
              "      <td>0</td>\n",
              "      <td>0</td>\n",
              "      <td>0</td>\n",
              "      <td>0</td>\n",
              "      <td>...</td>\n",
              "      <td>0</td>\n",
              "      <td>0</td>\n",
              "      <td>0</td>\n",
              "      <td>0</td>\n",
              "      <td>0</td>\n",
              "      <td>0</td>\n",
              "      <td>0</td>\n",
              "      <td>0</td>\n",
              "      <td>0</td>\n",
              "      <td>0</td>\n",
              "    </tr>\n",
              "  </tbody>\n",
              "</table>\n",
              "<p>5 rows × 784 columns</p>\n",
              "</div>\n",
              "      <button class=\"colab-df-convert\" onclick=\"convertToInteractive('df-90898740-1033-4aa9-98c7-62356325834b')\"\n",
              "              title=\"Convert this dataframe to an interactive table.\"\n",
              "              style=\"display:none;\">\n",
              "        \n",
              "  <svg xmlns=\"http://www.w3.org/2000/svg\" height=\"24px\"viewBox=\"0 0 24 24\"\n",
              "       width=\"24px\">\n",
              "    <path d=\"M0 0h24v24H0V0z\" fill=\"none\"/>\n",
              "    <path d=\"M18.56 5.44l.94 2.06.94-2.06 2.06-.94-2.06-.94-.94-2.06-.94 2.06-2.06.94zm-11 1L8.5 8.5l.94-2.06 2.06-.94-2.06-.94L8.5 2.5l-.94 2.06-2.06.94zm10 10l.94 2.06.94-2.06 2.06-.94-2.06-.94-.94-2.06-.94 2.06-2.06.94z\"/><path d=\"M17.41 7.96l-1.37-1.37c-.4-.4-.92-.59-1.43-.59-.52 0-1.04.2-1.43.59L10.3 9.45l-7.72 7.72c-.78.78-.78 2.05 0 2.83L4 21.41c.39.39.9.59 1.41.59.51 0 1.02-.2 1.41-.59l7.78-7.78 2.81-2.81c.8-.78.8-2.07 0-2.86zM5.41 20L4 18.59l7.72-7.72 1.47 1.35L5.41 20z\"/>\n",
              "  </svg>\n",
              "      </button>\n",
              "      \n",
              "  <style>\n",
              "    .colab-df-container {\n",
              "      display:flex;\n",
              "      flex-wrap:wrap;\n",
              "      gap: 12px;\n",
              "    }\n",
              "\n",
              "    .colab-df-convert {\n",
              "      background-color: #E8F0FE;\n",
              "      border: none;\n",
              "      border-radius: 50%;\n",
              "      cursor: pointer;\n",
              "      display: none;\n",
              "      fill: #1967D2;\n",
              "      height: 32px;\n",
              "      padding: 0 0 0 0;\n",
              "      width: 32px;\n",
              "    }\n",
              "\n",
              "    .colab-df-convert:hover {\n",
              "      background-color: #E2EBFA;\n",
              "      box-shadow: 0px 1px 2px rgba(60, 64, 67, 0.3), 0px 1px 3px 1px rgba(60, 64, 67, 0.15);\n",
              "      fill: #174EA6;\n",
              "    }\n",
              "\n",
              "    [theme=dark] .colab-df-convert {\n",
              "      background-color: #3B4455;\n",
              "      fill: #D2E3FC;\n",
              "    }\n",
              "\n",
              "    [theme=dark] .colab-df-convert:hover {\n",
              "      background-color: #434B5C;\n",
              "      box-shadow: 0px 1px 3px 1px rgba(0, 0, 0, 0.15);\n",
              "      filter: drop-shadow(0px 1px 2px rgba(0, 0, 0, 0.3));\n",
              "      fill: #FFFFFF;\n",
              "    }\n",
              "  </style>\n",
              "\n",
              "      <script>\n",
              "        const buttonEl =\n",
              "          document.querySelector('#df-90898740-1033-4aa9-98c7-62356325834b button.colab-df-convert');\n",
              "        buttonEl.style.display =\n",
              "          google.colab.kernel.accessAllowed ? 'block' : 'none';\n",
              "\n",
              "        async function convertToInteractive(key) {\n",
              "          const element = document.querySelector('#df-90898740-1033-4aa9-98c7-62356325834b');\n",
              "          const dataTable =\n",
              "            await google.colab.kernel.invokeFunction('convertToInteractive',\n",
              "                                                     [key], {});\n",
              "          if (!dataTable) return;\n",
              "\n",
              "          const docLinkHtml = 'Like what you see? Visit the ' +\n",
              "            '<a target=\"_blank\" href=https://colab.research.google.com/notebooks/data_table.ipynb>data table notebook</a>'\n",
              "            + ' to learn more about interactive tables.';\n",
              "          element.innerHTML = '';\n",
              "          dataTable['output_type'] = 'display_data';\n",
              "          await google.colab.output.renderOutput(dataTable, element);\n",
              "          const docLink = document.createElement('div');\n",
              "          docLink.innerHTML = docLinkHtml;\n",
              "          element.appendChild(docLink);\n",
              "        }\n",
              "      </script>\n",
              "    </div>\n",
              "  </div>\n",
              "  "
            ]
          },
          "metadata": {},
          "execution_count": 6
        }
      ]
    },
    {
      "cell_type": "markdown",
      "source": [
        "The training and test data contain 42,000 and 28,000 grayscale images of hand-drawn digits from 0 to 9, respectively. The training data has one more column than the test data because the first column, `label`, represents the number the user wrote.\n",
        "\n",
        "Each images has 784 pixels (28 pixels in height and 28 pixels in width), which corresponds to the number of remaining columns. Each pixel value ranges from 0 to 255, indicating the brightness of the corresponding pixel, and the higher the value, the darker it is.\n",
        "\n",
        "Let's see how many images are in each class."
      ],
      "metadata": {
        "id": "6h6t5qe8nZk_"
      }
    },
    {
      "cell_type": "code",
      "source": [
        "# the number of images in the digit classes\n",
        "train_df['label'].value_counts()"
      ],
      "metadata": {
        "colab": {
          "base_uri": "https://localhost:8080/"
        },
        "id": "EPsiRmuvoa_n",
        "outputId": "4590c60f-9108-4e8a-d29a-e10cab6ac727"
      },
      "execution_count": 7,
      "outputs": [
        {
          "output_type": "execute_result",
          "data": {
            "text/plain": [
              "1    4684\n",
              "7    4401\n",
              "3    4351\n",
              "9    4188\n",
              "2    4177\n",
              "6    4137\n",
              "0    4132\n",
              "4    4072\n",
              "8    4063\n",
              "5    3795\n",
              "Name: label, dtype: int64"
            ]
          },
          "metadata": {},
          "execution_count": 7
        }
      ]
    },
    {
      "cell_type": "markdown",
      "source": [
        "The images seem to be more or less evenly distributed across the digit classes. And since there are 10 different image classes (different types of numbers), it is a multi-class classification problem."
      ],
      "metadata": {
        "id": "GuEiuyfepAcL"
      }
    },
    {
      "cell_type": "markdown",
      "source": [
        "# 3. Transform Data and Prepare DataLoader\n",
        "\n",
        "Before using the data in PyTorch, we need to turn them into tensors (multi-dimensional matrices containing elements of a single data type) and subsequently a Python iterable using `torch.utils.data.DataLoader`,\n"
      ],
      "metadata": {
        "id": "qzPud8vsr5Lp"
      }
    },
    {
      "cell_type": "code",
      "source": [
        "# convert dataframe to numpy array\n",
        "train_arr = train_df.to_numpy()\n",
        "\n",
        "# separate 'train_arr' into X (pixels) and y (label)\n",
        "X = train_arr[:, 1:].reshape((train_df.shape[0], 28, 28, 1)).astype(np.uint8) # NCHW (Number of Images, Color Channels, Height, Width)\n",
        "y = train_arr[:, 0]"
      ],
      "metadata": {
        "id": "rsC5L3bS1N5m"
      },
      "execution_count": 8,
      "outputs": []
    },
    {
      "cell_type": "markdown",
      "source": [
        "According to [`ToTensor()`](https://pytorch.org/vision/stable/generated/torchvision.transforms.ToTensor.html#torchvision.transforms.ToTensor), a PIL Image or `numpy.ndarray` (H x W x C) in the range [0, 255] is converted to a `torch.FloatTensor` of shape (C x H x W) in the range [0.0, 1.0] if the PIL Image belongs to one of the modes (L, LA, P, I, F, RGB, YCbCr, RGBA, CMYK, 1) or if the `numpy.ndarray` has `np.uint8` as data type. That's why we converted `train_df` to a Numpy array with a new shape of (42000, 28, 28, 1) and data type of `np.unit8`."
      ],
      "metadata": {
        "id": "dd7Mf0Hn4EZW"
      }
    },
    {
      "cell_type": "code",
      "source": [
        "# create 'data_transform' that converts X into tensors and resizes them to (32, 32)\n",
        "data_transform = transforms.Compose([\n",
        "    transforms.ToTensor(),\n",
        "    transforms.Resize(size=(32, 32))\n",
        "])"
      ],
      "metadata": {
        "id": "6YWVtSAs4WCh"
      },
      "execution_count": 9,
      "outputs": []
    },
    {
      "cell_type": "code",
      "source": [
        "# plot 12 random images\n",
        "torch.manual_seed(42)\n",
        "\n",
        "fig = plt.figure(figsize=(12, 7))\n",
        "rows, cols = 4, 3\n",
        "\n",
        "for i in range(1, rows*cols+1):\n",
        "  # generate random integer between 0 and the length of data\n",
        "  random_idx = torch.randint(0, len(X), size=[1]).item()\n",
        "  # transform the selected image\n",
        "  img = data_transform(X[random_idx])\n",
        "  label = y[random_idx]\n",
        "  fig.add_subplot(rows, cols, i)\n",
        "  plt.imshow(img.squeeze(), cmap='gray')\n",
        "  plt.title(label)\n",
        "  plt.axis(False);"
      ],
      "metadata": {
        "colab": {
          "base_uri": "https://localhost:8080/",
          "height": 427
        },
        "id": "XzojJHv6-VIj",
        "outputId": "2b234cf5-3e58-4951-ae86-3892844bf230"
      },
      "execution_count": 10,
      "outputs": [
        {
          "output_type": "display_data",
          "data": {
            "text/plain": [
              "<Figure size 864x504 with 12 Axes>"
            ],
            "image/png": "[encoded data removed]"
          },
          "metadata": {
            "needs_background": "light"
          }
        }
      ]
    },
    {
      "cell_type": "markdown",
      "source": [
        "Above, 12 random images of handwritten digits are visualized after the data was converted to tensors and resized.\n",
        "\n",
        "Now, we are ready to prepare the DataLoader which helps turn a large dataset into a Python iterable of smaller mini-batches. One of the advantages of using mini-batches to train a model is that it requires less memory because the model is trained with less data.\n",
        "\n",
        "\n",
        "Source - [What is batch size in neural network?](https://stats.stackexchange.com/questions/153531/what-is-batch-size-in-neural-network) "
      ],
      "metadata": {
        "id": "0WkTybeyavXb"
      }
    },
    {
      "cell_type": "code",
      "source": [
        "class DigitRecognizerTrainDataset(torch.utils.data.Dataset):\n",
        "    def __init__(self):\n",
        "      self.dataset = train_df[:28000].to_numpy()\n",
        "\n",
        "    def __getitem__(self, idx):\n",
        "        sample = self.dataset[idx]\n",
        "        features, label = sample[1:], sample[0]\n",
        "        features = features.reshape((28, 28, 1)).astype(np.uint8)\n",
        "        \n",
        "        transform = data_transform\n",
        "        return transform(features), torch.tensor(label)\n",
        "\n",
        "    def __len__(self):\n",
        "        return len(self.dataset)\n",
        "\n",
        "class DigitRecognizerTestDataset(torch.utils.data.Dataset):\n",
        "    def __init__(self):\n",
        "      self.dataset = train_df[28000:].to_numpy()\n",
        "\n",
        "    def __getitem__(self, idx):\n",
        "        sample = self.dataset[idx]\n",
        "        features, label = sample[1:], sample[0]\n",
        "        features = features.reshape((28, 28, 1)).astype(np.uint8)\n",
        "        \n",
        "        transform = data_transform\n",
        "        return transform(features), torch.tensor(label)\n",
        "\n",
        "    def __len__(self):\n",
        "        return len(self.dataset)\n",
        "\n",
        "train_set = DigitRecognizerTrainDataset()\n",
        "test_set = DigitRecognizerTestDataset()"
      ],
      "metadata": {
        "id": "6vrppwVMh-kC"
      },
      "execution_count": 11,
      "outputs": []
    },
    {
      "cell_type": "code",
      "source": [
        "# create dataloaders for train and test data\n",
        "\n",
        "# set up batch size\n",
        "batch_size = 32\n",
        "\n",
        "# turn datasets into batches\n",
        "train_dataloader = DataLoader(train_set,\n",
        "                              batch_size=batch_size,\n",
        "                              shuffle=True)\n",
        "\n",
        "test_dataloader = DataLoader(test_set,\n",
        "                             batch_size=batch_size,\n",
        "                             shuffle=False)\n",
        "\n",
        "print(f\"There are {len(train_dataloader)} batches of size {batch_size} in train dataloader.\")\n",
        "print(f\"There are {len(test_dataloader)} batches of size {batch_size} in test dataloader.\")"
      ],
      "metadata": {
        "colab": {
          "base_uri": "https://localhost:8080/"
        },
        "id": "0jKDjAms_Mrn",
        "outputId": "141e625c-194b-4bf2-96c9-4bf79325081d"
      },
      "execution_count": 12,
      "outputs": [
        {
          "output_type": "stream",
          "name": "stdout",
          "text": [
            "There are 875 batches of size 32 in train dataloader.\n",
            "There are 438 batches of size 32 in test dataloader.\n"
          ]
        }
      ]
    },
    {
      "cell_type": "markdown",
      "source": [
        "When creating the dataloader, we need to select a value for the hyperparameter `batch_size`. We set it to 32, which means there are 32 samples in each batch."
      ],
      "metadata": {
        "id": "4LGKF45KjsxJ"
      }
    },
    {
      "cell_type": "code",
      "source": [
        "train_features_batch, train_labels_batch = next(iter(train_dataloader))\n",
        "train_features_batch.shape, train_labels_batch.shape"
      ],
      "metadata": {
        "colab": {
          "base_uri": "https://localhost:8080/"
        },
        "id": "aiTwxgRaCHHL",
        "outputId": "8adcf26a-3064-4d4f-9881-708aac919491"
      },
      "execution_count": 13,
      "outputs": [
        {
          "output_type": "execute_result",
          "data": {
            "text/plain": [
              "(torch.Size([32, 1, 32, 32]), torch.Size([32]))"
            ]
          },
          "metadata": {},
          "execution_count": 13
        }
      ]
    },
    {
      "cell_type": "markdown",
      "source": [
        "# 4. Modeling\n",
        "\n",
        "Now that the training and test data loaders are ready, we will build a CNN model by subclassing `nn.Module` (the base class for all neural network modules).\n",
        "\n",
        "The CNN model we will be using is the MiniVGGNet from [MiniVGGNet: Going Deeper with CNNs](https://pyimagesearch.com/2021/05/22/minivggnet-going-deeper-with-cnns/).'\n",
        "\n",
        "Following the general structure of CNNs, what makes VGGNet unique is that it only uses 3$\\times$3 kernels from start to finish, unlike other models that starts with a filter size between 7$\\times$7 and 11$\\times$11 and gradually reduces the kernel size to 3$\\times$3.\n",
        "\n",
        "Instead of trying a variant with 16 to 19 layers, we will replicate a smaller version of VGGNet called MiniVGGNet. For more details on the architecture of the MiniVGGNet, see [MiniVGGNet: Going Deeper with CNNs](https://pyimagesearch.com/2021/05/22/minivggnet-going-deeper-with-cnns/)."
      ],
      "metadata": {
        "id": "bptBQjK7yO6i"
      }
    },
    {
      "cell_type": "code",
      "source": [
        "# construct a cnn\n",
        "class DigitRecognizerMiniVGGNet(nn.Module):\n",
        "  def __init__(self):\n",
        "    super().__init__()\n",
        "    # first set of conv -> relu -> conv -> relu -> pool\n",
        "    self.block_1 = nn.Sequential(\n",
        "        nn.Conv2d(in_channels=1,\n",
        "                  out_channels=32,\n",
        "                  kernel_size=3,\n",
        "                  stride=1,\n",
        "                  padding='same'),\n",
        "        nn.ReLU(),\n",
        "        nn.BatchNorm2d(32),\n",
        "        nn.Conv2d(in_channels=32,\n",
        "                  out_channels=32,\n",
        "                  kernel_size=3,\n",
        "                  stride=1,\n",
        "                  padding='same'),\n",
        "        nn.ReLU(),\n",
        "        nn.BatchNorm2d(32),\n",
        "        nn.MaxPool2d(kernel_size=2),\n",
        "        nn.Dropout(p=0.25) \n",
        "    )\n",
        "    # second set of conv -> relu -> conv -> relu -> pool\n",
        "    self.block_2 = nn.Sequential(\n",
        "        nn.Conv2d(in_channels=32,\n",
        "                  out_channels=64,\n",
        "                  kernel_size=3,\n",
        "                  padding='same'),\n",
        "        nn.ReLU(),\n",
        "        nn.BatchNorm2d(64),\n",
        "        nn.Conv2d(in_channels=64,\n",
        "                  out_channels=64,\n",
        "                  kernel_size=3,\n",
        "                  padding='same'),\n",
        "        nn.ReLU(),\n",
        "        nn.BatchNorm2d(64),\n",
        "        nn.MaxPool2d(kernel_size=2),\n",
        "        nn.Dropout(p=0.25)\n",
        "    )\n",
        "    self.block_3 = nn.Sequential(\n",
        "        nn.Flatten(),\n",
        "        nn.Linear(in_features=4096,\n",
        "                  out_features=4096),\n",
        "        nn.ReLU(),\n",
        "        nn.BatchNorm1d(4096),\n",
        "        nn.Dropout(p=0.5)\n",
        "    )\n",
        "    self.block_4 = nn.Sequential(\n",
        "        nn.Linear(in_features=4096,\n",
        "                  out_features=10),\n",
        "        #nn.Softmax(dim=1)\n",
        "    )\n",
        "  def forward(self, x):\n",
        "    return self.block_4(self.block_3(self.block_2(self.block_1(x))))"
      ],
      "metadata": {
        "id": "6QMYy-uVySwX"
      },
      "execution_count": 19,
      "outputs": []
    },
    {
      "cell_type": "markdown",
      "source": [
        "Let's instantiate a model with `DigitRecognizerMiniVGGNet`. But before that, we will set up device-agnostic code for the model and data to run on GPU if it's available."
      ],
      "metadata": {
        "id": "Un-OjMj-wbcJ"
      }
    },
    {
      "cell_type": "code",
      "source": [
        "device = 'cuda' if torch.cuda.is_available() else 'cpu'\n",
        "device"
      ],
      "metadata": {
        "colab": {
          "base_uri": "https://localhost:8080/",
          "height": 35
        },
        "id": "22PEvmeewOXi",
        "outputId": "64f3fc2f-a361-4be7-9361-46edf485066b"
      },
      "execution_count": 15,
      "outputs": [
        {
          "output_type": "execute_result",
          "data": {
            "text/plain": [
              "'cuda'"
            ],
            "application/vnd.google.colaboratory.intrinsic+json": {
              "type": "string"
            }
          },
          "metadata": {},
          "execution_count": 15
        }
      ]
    },
    {
      "cell_type": "code",
      "source": [
        "# instantiate the model and send it to GPU\n",
        "torch.manual_seed(42)\n",
        "\n",
        "model = DigitRecognizerMiniVGGNet()\n",
        "model.to(device)"
      ],
      "metadata": {
        "colab": {
          "base_uri": "https://localhost:8080/"
        },
        "id": "KcjjwlzF0VBp",
        "outputId": "6ea2d337-e7bc-4e27-d019-7e47a0aef197"
      },
      "execution_count": 20,
      "outputs": [
        {
          "output_type": "execute_result",
          "data": {
            "text/plain": [
              "DigitRecognizerMiniVGGNet(\n",
              "  (block_1): Sequential(\n",
              "    (0): Conv2d(1, 32, kernel_size=(3, 3), stride=(1, 1), padding=same)\n",
              "    (1): ReLU()\n",
              "    (2): BatchNorm2d(32, eps=1e-05, momentum=0.1, affine=True, track_running_stats=True)\n",
              "    (3): Conv2d(32, 32, kernel_size=(3, 3), stride=(1, 1), padding=same)\n",
              "    (4): ReLU()\n",
              "    (5): BatchNorm2d(32, eps=1e-05, momentum=0.1, affine=True, track_running_stats=True)\n",
              "    (6): MaxPool2d(kernel_size=2, stride=2, padding=0, dilation=1, ceil_mode=False)\n",
              "    (7): Dropout(p=0.25, inplace=False)\n",
              "  )\n",
              "  (block_2): Sequential(\n",
              "    (0): Conv2d(32, 64, kernel_size=(3, 3), stride=(1, 1), padding=same)\n",
              "    (1): ReLU()\n",
              "    (2): BatchNorm2d(64, eps=1e-05, momentum=0.1, affine=True, track_running_stats=True)\n",
              "    (3): Conv2d(64, 64, kernel_size=(3, 3), stride=(1, 1), padding=same)\n",
              "    (4): ReLU()\n",
              "    (5): BatchNorm2d(64, eps=1e-05, momentum=0.1, affine=True, track_running_stats=True)\n",
              "    (6): MaxPool2d(kernel_size=2, stride=2, padding=0, dilation=1, ceil_mode=False)\n",
              "    (7): Dropout(p=0.25, inplace=False)\n",
              "  )\n",
              "  (block_3): Sequential(\n",
              "    (0): Flatten(start_dim=1, end_dim=-1)\n",
              "    (1): Linear(in_features=4096, out_features=4096, bias=True)\n",
              "    (2): ReLU()\n",
              "    (3): BatchNorm1d(4096, eps=1e-05, momentum=0.1, affine=True, track_running_stats=True)\n",
              "    (4): Dropout(p=0.5, inplace=False)\n",
              "  )\n",
              "  (block_4): Sequential(\n",
              "    (0): Linear(in_features=4096, out_features=10, bias=True)\n",
              "  )\n",
              ")"
            ]
          },
          "metadata": {},
          "execution_count": 20
        }
      ]
    },
    {
      "cell_type": "markdown",
      "source": [
        "Before training the model, we need to set up the appropriate loss, optimization, and evaluation metrics since we are dealing with a multi-classification problem.\n",
        "\n",
        "For evaluation, we use `torchmetrics.Accuracy`, which computes the fraction of correct predictions by the model. If predictions are floating points, it applies `torch.argmax` along the label classes to automatically convert probabilities/logits into an int tensor.\n",
        "\n",
        "For the loss function, the cross-entropy loss does the work and the Stochastic Gradient Descent (SGD) algorithm is used as the optimizer.\n",
        "\n",
        "Source - [Cross-Entropy Loss](https://www.youtube.com/watch?v=6ArSys5qHAU), [SGD](https://www.youtube.com/watch?v=vMh0zPT0tLI)"
      ],
      "metadata": {
        "id": "RRHHI57gzrO7"
      }
    },
    {
      "cell_type": "code",
      "source": [
        "# set up accuracy function, loss function and optimizer\n",
        "acc_fn = torchmetrics.Accuracy(task='multiclass', num_classes=10).to(device)\n",
        "loss_fn = nn.CrossEntropyLoss()\n",
        "optimizer = torch.optim.SGD(params=model.parameters(), lr=0.1)"
      ],
      "metadata": {
        "id": "rqO7IY_80pur"
      },
      "execution_count": 22,
      "outputs": []
    },
    {
      "cell_type": "markdown",
      "source": [
        "We are now ready to train the model! "
      ],
      "metadata": {
        "id": "g-yNVHvo8mc5"
      }
    },
    {
      "cell_type": "code",
      "source": [
        "# set the seed\n",
        "torch.manual_seed(42)\n",
        "\n",
        "# set the number of epochs\n",
        "epochs = 40\n",
        "\n",
        "train_loss_list = []\n",
        "train_acc_list = []\n",
        "test_loss_list = []\n",
        "test_acc_list = []\n",
        "\n",
        "# create training and testing loop\n",
        "for epoch in range(epochs):\n",
        "  print(f\"Epoch: {epoch+1}/{epochs}\\n------\")\n",
        "  \n",
        "  # training\n",
        "  train_loss, train_acc = 0, 0\n",
        "  for batch, (X, y) in enumerate(train_dataloader):\n",
        "    # send data to GPU\n",
        "    X, y  = X.to(device), y.to(device)\n",
        "    model.train()\n",
        "    # forward pass\n",
        "    y_pred = model(X)\n",
        "    # compute loss and accuracy (per batch)\n",
        "    loss = loss_fn(y_pred, y)\n",
        "    train_loss += loss\n",
        "    train_acc += acc_fn(torch.argmax(torch.softmax(y_pred, dim=1), dim=1), y)\n",
        "    # optimizer zero grad\n",
        "    optimizer.zero_grad()\n",
        "    # loss backward\n",
        "    loss.backward()\n",
        "    # optimizer step\n",
        "    optimizer.step()\n",
        "\n",
        "  train_loss /= len(train_dataloader)\n",
        "  train_acc /= len(train_dataloader)\n",
        "  train_loss_list.append(train_loss)\n",
        "  train_acc_list.append(train_acc)\n",
        "\n",
        "  # testing\n",
        "  test_loss, test_acc = 0, 0\n",
        "  model.eval()\n",
        "  with torch.inference_mode():\n",
        "    for X, y in test_dataloader:\n",
        "      # send data to GPU\n",
        "      X, y  = X.to(device), y.to(device)\n",
        "      # forward pass\n",
        "      test_pred = model(X)\n",
        "      # compute loss\n",
        "      test_loss += loss_fn(test_pred, y)\n",
        "      # compute accuracy\n",
        "      test_acc += acc_fn(torch.argmax(torch.softmax(test_pred, dim=1), dim=1), y)\n",
        "    test_loss /= len(test_dataloader)\n",
        "    test_acc /= len(test_dataloader)\n",
        "    test_loss_list.append(test_loss)\n",
        "    test_acc_list.append(test_acc)\n",
        "  print(f\"Train loss: {train_loss:.4f}, Train acc: {train_acc:.2f}% | Test loss: {test_loss:.4f}, Test acc: {test_acc:.2f}%\\n\")"
      ],
      "metadata": {
        "colab": {
          "base_uri": "https://localhost:8080/"
        },
        "id": "CAAjUNyG3AVe",
        "outputId": "0c706773-57d0-4f32-d33d-592ea6ce6c51"
      },
      "execution_count": 25,
      "outputs": [
        {
          "output_type": "stream",
          "name": "stdout",
          "text": [
            "Epoch: 1/40\n",
            "------\n",
            "Train loss: 0.0158, Train acc: 1.00% | Test loss: 0.1772, Test acc: 0.99%\n",
            "\n",
            "Epoch: 2/40\n",
            "------\n",
            "Train loss: 0.0126, Train acc: 1.00% | Test loss: 0.3211, Test acc: 0.99%\n",
            "\n",
            "Epoch: 3/40\n",
            "------\n",
            "Train loss: 0.0125, Train acc: 1.00% | Test loss: 0.2013, Test acc: 0.99%\n",
            "\n",
            "Epoch: 4/40\n",
            "------\n",
            "Train loss: 0.0090, Train acc: 1.00% | Test loss: 0.1881, Test acc: 0.99%\n",
            "\n",
            "Epoch: 5/40\n",
            "------\n",
            "Train loss: 0.0235, Train acc: 1.00% | Test loss: 0.2164, Test acc: 0.99%\n",
            "\n",
            "Epoch: 6/40\n",
            "------\n",
            "Train loss: 0.1282, Train acc: 0.99% | Test loss: 0.1739, Test acc: 0.99%\n",
            "\n",
            "Epoch: 7/40\n",
            "------\n",
            "Train loss: 0.1051, Train acc: 0.99% | Test loss: 0.1700, Test acc: 0.99%\n",
            "\n",
            "Epoch: 8/40\n",
            "------\n",
            "Train loss: 0.1568, Train acc: 0.98% | Test loss: 0.1582, Test acc: 0.99%\n",
            "\n",
            "Epoch: 9/40\n",
            "------\n",
            "Train loss: 0.1039, Train acc: 0.99% | Test loss: 0.1401, Test acc: 0.99%\n",
            "\n",
            "Epoch: 10/40\n",
            "------\n",
            "Train loss: 0.0941, Train acc: 0.99% | Test loss: 0.1638, Test acc: 0.99%\n",
            "\n",
            "Epoch: 11/40\n",
            "------\n",
            "Train loss: 0.0975, Train acc: 0.99% | Test loss: 0.1724, Test acc: 0.99%\n",
            "\n",
            "Epoch: 12/40\n",
            "------\n",
            "Train loss: 0.0750, Train acc: 0.99% | Test loss: 0.1883, Test acc: 0.99%\n",
            "\n",
            "Epoch: 13/40\n",
            "------\n",
            "Train loss: 0.0786, Train acc: 0.99% | Test loss: 0.2227, Test acc: 0.99%\n",
            "\n",
            "Epoch: 14/40\n",
            "------\n",
            "Train loss: 0.0689, Train acc: 0.99% | Test loss: 0.2258, Test acc: 0.99%\n",
            "\n",
            "Epoch: 15/40\n",
            "------\n",
            "Train loss: 0.1012, Train acc: 0.99% | Test loss: 0.1419, Test acc: 0.99%\n",
            "\n",
            "Epoch: 16/40\n",
            "------\n",
            "Train loss: 0.0753, Train acc: 0.99% | Test loss: 0.1771, Test acc: 0.99%\n",
            "\n",
            "Epoch: 17/40\n",
            "------\n",
            "Train loss: 0.0591, Train acc: 0.99% | Test loss: 0.1296, Test acc: 0.99%\n",
            "\n",
            "Epoch: 18/40\n",
            "------\n",
            "Train loss: 0.0504, Train acc: 0.99% | Test loss: 0.1261, Test acc: 0.99%\n",
            "\n",
            "Epoch: 19/40\n",
            "------\n",
            "Train loss: 0.0623, Train acc: 0.99% | Test loss: 0.1832, Test acc: 0.99%\n",
            "\n",
            "Epoch: 20/40\n",
            "------\n",
            "Train loss: 0.0448, Train acc: 0.99% | Test loss: 0.1565, Test acc: 0.99%\n",
            "\n",
            "Epoch: 21/40\n",
            "------\n",
            "Train loss: 0.0452, Train acc: 0.99% | Test loss: 0.2031, Test acc: 0.99%\n",
            "\n",
            "Epoch: 22/40\n",
            "------\n",
            "Train loss: 0.0448, Train acc: 0.99% | Test loss: 0.1396, Test acc: 0.99%\n",
            "\n",
            "Epoch: 23/40\n",
            "------\n",
            "Train loss: 0.0430, Train acc: 0.99% | Test loss: 0.2025, Test acc: 0.99%\n",
            "\n",
            "Epoch: 24/40\n",
            "------\n",
            "Train loss: 0.0420, Train acc: 0.99% | Test loss: 0.3389, Test acc: 0.99%\n",
            "\n",
            "Epoch: 25/40\n",
            "------\n",
            "Train loss: 0.0329, Train acc: 0.99% | Test loss: 0.1516, Test acc: 0.99%\n",
            "\n",
            "Epoch: 26/40\n",
            "------\n",
            "Train loss: 0.0278, Train acc: 1.00% | Test loss: 0.2364, Test acc: 0.99%\n",
            "\n",
            "Epoch: 27/40\n",
            "------\n",
            "Train loss: 0.0390, Train acc: 0.99% | Test loss: 0.1850, Test acc: 0.99%\n",
            "\n",
            "Epoch: 28/40\n",
            "------\n",
            "Train loss: 0.0328, Train acc: 1.00% | Test loss: 0.3820, Test acc: 0.99%\n",
            "\n",
            "Epoch: 29/40\n",
            "------\n",
            "Train loss: 0.0301, Train acc: 1.00% | Test loss: 0.4554, Test acc: 0.99%\n",
            "\n",
            "Epoch: 30/40\n",
            "------\n",
            "Train loss: 0.0300, Train acc: 1.00% | Test loss: 0.1971, Test acc: 0.99%\n",
            "\n",
            "Epoch: 31/40\n",
            "------\n",
            "Train loss: 0.0305, Train acc: 1.00% | Test loss: 0.1768, Test acc: 0.99%\n",
            "\n",
            "Epoch: 32/40\n",
            "------\n",
            "Train loss: 0.0285, Train acc: 1.00% | Test loss: 0.1776, Test acc: 0.99%\n",
            "\n",
            "Epoch: 33/40\n",
            "------\n",
            "Train loss: 0.0250, Train acc: 1.00% | Test loss: 0.7610, Test acc: 0.99%\n",
            "\n",
            "Epoch: 34/40\n",
            "------\n",
            "Train loss: 0.0287, Train acc: 1.00% | Test loss: 0.2511, Test acc: 0.99%\n",
            "\n",
            "Epoch: 35/40\n",
            "------\n",
            "Train loss: 0.1330, Train acc: 0.99% | Test loss: 0.1550, Test acc: 0.99%\n",
            "\n",
            "Epoch: 36/40\n",
            "------\n",
            "Train loss: 0.0937, Train acc: 0.99% | Test loss: 0.1770, Test acc: 0.99%\n",
            "\n",
            "Epoch: 37/40\n",
            "------\n",
            "Train loss: 0.0764, Train acc: 0.99% | Test loss: 0.3285, Test acc: 0.99%\n",
            "\n",
            "Epoch: 38/40\n",
            "------\n",
            "Train loss: 0.1119, Train acc: 0.99% | Test loss: 0.2386, Test acc: 0.99%\n",
            "\n",
            "Epoch: 39/40\n",
            "------\n",
            "Train loss: 0.0632, Train acc: 0.99% | Test loss: 0.3648, Test acc: 0.99%\n",
            "\n",
            "Epoch: 40/40\n",
            "------\n",
            "Train loss: 0.0583, Train acc: 0.99% | Test loss: 0.6424, Test acc: 0.99%\n",
            "\n"
          ]
        }
      ]
    },
    {
      "cell_type": "code",
      "source": [
        "# plot train and test loss\n",
        "train_losses = [i.cpu().item() for i in train_loss_list]\n",
        "test_losses = [i.cpu().item() for i in test_loss_list]\n",
        "\n",
        "plt.plot(range(0, epochs), train_losses, label='train loss')\n",
        "plt.plot(range(0, epochs), test_losses, label='test loss')\n",
        "\n",
        "plt.legend()\n",
        "plt.show()"
      ],
      "metadata": {
        "colab": {
          "base_uri": "https://localhost:8080/",
          "height": 265
        },
        "id": "_7dpP5ic542Q",
        "outputId": "7ff201ce-b4e4-424b-ce76-3359fe6b0027"
      },
      "execution_count": 48,
      "outputs": [
        {
          "output_type": "display_data",
          "data": {
            "text/plain": [
              "<Figure size 432x288 with 1 Axes>"
            ],
            "image/png": "[encoded data removed]"
          },
          "metadata": {
            "needs_background": "light"
          }
        }
      ]
    },
    {
      "cell_type": "code",
      "source": [
        "# plot train and test accuracy\n",
        "train_accs = [i.cpu().item() for i in train_acc_list]\n",
        "test_accs = [i.cpu().item() for i in test_acc_list]\n",
        "\n",
        "plt.plot(range(0, epochs), train_accs, label='train accuracy')\n",
        "plt.plot(range(0, epochs), test_accs, label='test accuracy')\n",
        "\n",
        "plt.legend()\n",
        "plt.show()"
      ],
      "metadata": {
        "colab": {
          "base_uri": "https://localhost:8080/",
          "height": 265
        },
        "id": "QjyQhFeo9k6Y",
        "outputId": "70141e82-7326-4955-c779-4f0f48986d35"
      },
      "execution_count": 46,
      "outputs": [
        {
          "output_type": "display_data",
          "data": {
            "text/plain": [
              "<Figure size 432x288 with 1 Axes>"
            ],
            "image/png": "[encoded data removed]"
          },
          "metadata": {
            "needs_background": "light"
          }
        }
      ]
    },
    {
      "cell_type": "markdown",
      "source": [
        "The first indicate that after 9 epochs the loss of test data reached a near-minimum value. After that point, the loss fluctuates but does not decrease significantly. Looking at the test accuracies, they tend to be around 0.99. So we will train the model up to 9 epochs and make predictions on the real test data with that model."
      ],
      "metadata": {
        "id": "m0EX8Sw19mmI"
      }
    },
    {
      "cell_type": "code",
      "source": [
        "# set the seed\n",
        "torch.manual_seed(42)\n",
        "\n",
        "# set the number of epochs\n",
        "epochs = 9\n",
        "\n",
        "# create training and testing loop\n",
        "for epoch in range(epochs):\n",
        "  print(f\"Epoch: {epoch+1}/{epochs}\\n------\")\n",
        "  \n",
        "  # training\n",
        "  train_loss, train_acc = 0, 0\n",
        "  for batch, (X, y) in enumerate(train_dataloader):\n",
        "    # send data to GPU\n",
        "    X, y  = X.to(device), y.to(device)\n",
        "    model.train()\n",
        "    # forward pass\n",
        "    y_pred = model(X)\n",
        "    # compute loss and accuracy (per batch)\n",
        "    loss = loss_fn(y_pred, y)\n",
        "    train_loss += loss\n",
        "    train_acc += acc_fn(torch.argmax(torch.softmax(y_pred, dim=1), dim=1), y)\n",
        "    # optimizer zero grad\n",
        "    optimizer.zero_grad()\n",
        "    # loss backward\n",
        "    loss.backward()\n",
        "    # optimizer step\n",
        "    optimizer.step()\n",
        "\n",
        "  train_loss /= len(train_dataloader)\n",
        "  train_acc /= len(train_dataloader)\n",
        "\n",
        "  # testing\n",
        "  test_loss, test_acc = 0, 0\n",
        "  model.eval()\n",
        "  with torch.inference_mode():\n",
        "    for X, y in test_dataloader:\n",
        "      # send data to GPU\n",
        "      X, y  = X.to(device), y.to(device)\n",
        "      # forward pass\n",
        "      test_pred = model(X)\n",
        "      # compute loss\n",
        "      test_loss += loss_fn(test_pred, y)\n",
        "      # compute accuracy\n",
        "      test_acc += acc_fn(torch.argmax(torch.softmax(test_pred, dim=1), dim=1), y)\n",
        "    test_loss /= len(test_dataloader)\n",
        "    test_acc /= len(test_dataloader)\n",
        "\n",
        "  print(f\"Train loss: {train_loss:.4f}, Train acc: {train_acc:.2f}% | Test loss: {test_loss:.4f}, Test acc: {test_acc:.2f}%\\n\")"
      ],
      "metadata": {
        "colab": {
          "base_uri": "https://localhost:8080/"
        },
        "id": "KEZL4OkU_jmX",
        "outputId": "24eb2795-d2b1-4c6f-e793-74d5176d9fc6"
      },
      "execution_count": 49,
      "outputs": [
        {
          "output_type": "stream",
          "name": "stdout",
          "text": [
            "Epoch: 1/9\n",
            "------\n",
            "Train loss: 0.0170, Train acc: 1.00% | Test loss: 0.2533, Test acc: 0.99%\n",
            "\n",
            "Epoch: 2/9\n",
            "------\n",
            "Train loss: 0.0117, Train acc: 1.00% | Test loss: 0.4838, Test acc: 0.99%\n",
            "\n",
            "Epoch: 3/9\n",
            "------\n",
            "Train loss: 0.0090, Train acc: 1.00% | Test loss: 0.3187, Test acc: 0.99%\n",
            "\n",
            "Epoch: 4/9\n",
            "------\n",
            "Train loss: 0.0119, Train acc: 1.00% | Test loss: 0.3237, Test acc: 0.99%\n",
            "\n",
            "Epoch: 5/9\n",
            "------\n",
            "Train loss: 0.0105, Train acc: 1.00% | Test loss: 0.7686, Test acc: 0.99%\n",
            "\n",
            "Epoch: 6/9\n",
            "------\n",
            "Train loss: 0.0170, Train acc: 1.00% | Test loss: 0.4036, Test acc: 0.99%\n",
            "\n",
            "Epoch: 7/9\n",
            "------\n",
            "Train loss: 0.0146, Train acc: 1.00% | Test loss: 0.2649, Test acc: 0.99%\n",
            "\n",
            "Epoch: 8/9\n",
            "------\n",
            "Train loss: 0.0113, Train acc: 1.00% | Test loss: 0.2600, Test acc: 0.99%\n",
            "\n",
            "Epoch: 9/9\n",
            "------\n",
            "Train loss: 0.0159, Train acc: 1.00% | Test loss: 0.2330, Test acc: 0.99%\n",
            "\n"
          ]
        }
      ]
    },
    {
      "cell_type": "markdown",
      "source": [
        "# 5. Making Predictions on the Data for Submission\n",
        "\n",
        "The final step is to make predictions on the test dataset and submit our predictions to see how accurate they are."
      ],
      "metadata": {
        "id": "f_Yg33tyBVSd"
      }
    },
    {
      "cell_type": "code",
      "source": [
        "class DigitRecognizerSubmissionDataset(torch.utils.data.Dataset):\n",
        "    def __init__(self):\n",
        "      self.dataset = test_df.to_numpy()\n",
        "\n",
        "    def __getitem__(self, idx):\n",
        "        features = self.dataset[idx]\n",
        "        features = features.reshape((28, 28, 1)).astype(np.uint8)\n",
        "        \n",
        "        return data_transform(features)\n",
        "\n",
        "    def __len__(self):\n",
        "        return len(self.dataset)"
      ],
      "metadata": {
        "id": "VGJms11nAf0l"
      },
      "execution_count": 55,
      "outputs": []
    },
    {
      "cell_type": "code",
      "source": [
        "submission_set = DigitRecognizerSubmissionDataset()"
      ],
      "metadata": {
        "id": "qx4k8buyBceE"
      },
      "execution_count": 56,
      "outputs": []
    },
    {
      "cell_type": "code",
      "source": [
        "submission_dataloader = DataLoader(submission_set,\n",
        "                                   batch_size=len(submission_set),\n",
        "                                   shuffle=False)"
      ],
      "metadata": {
        "id": "2gMol-CeBJAi"
      },
      "execution_count": 57,
      "outputs": []
    },
    {
      "cell_type": "code",
      "source": [
        "model.eval()\n",
        "with torch.inference_mode():\n",
        "  for X in submission_dataloader:\n",
        "    label_logits = model(X.to(device))\n",
        "    label_probs = torch.softmax(label_logits, dim=1)\n",
        "    label = torch.argmax(label_probs, dim=1)"
      ],
      "metadata": {
        "id": "CGX0yAwkCid4"
      },
      "execution_count": 58,
      "outputs": []
    },
    {
      "cell_type": "code",
      "source": [
        "submission = pd.DataFrame(data=label.cpu().numpy(), index=range(1, 28001),columns=['Label'])\n",
        "submission.index.name = 'ImageId'"
      ],
      "metadata": {
        "id": "HG2bHvBFJzXW"
      },
      "execution_count": 60,
      "outputs": []
    },
    {
      "cell_type": "code",
      "source": [
        "submission.head()"
      ],
      "metadata": {
        "colab": {
          "base_uri": "https://localhost:8080/",
          "height": 237
        },
        "id": "IHElqU65MF7T",
        "outputId": "d4a11d04-216b-4323-9583-a5c84ec2208a"
      },
      "execution_count": 61,
      "outputs": [
        {
          "output_type": "execute_result",
          "data": {
            "text/plain": [
              "         Label\n",
              "ImageId       \n",
              "1            2\n",
              "2            0\n",
              "3            9\n",
              "4            0\n",
              "5            3"
            ],
            "text/html": [
              "\n",
              "  <div id=\"df-fbc9ffbc-40cf-4ec3-b692-c693c3fd9175\">\n",
              "    <div class=\"colab-df-container\">\n",
              "      <div>\n",
              "<style scoped>\n",
              "    .dataframe tbody tr th:only-of-type {\n",
              "        vertical-align: middle;\n",
              "    }\n",
              "\n",
              "    .dataframe tbody tr th {\n",
              "        vertical-align: top;\n",
              "    }\n",
              "\n",
              "    .dataframe thead th {\n",
              "        text-align: right;\n",
              "    }\n",
              "</style>\n",
              "<table border=\"1\" class=\"dataframe\">\n",
              "  <thead>\n",
              "    <tr style=\"text-align: right;\">\n",
              "      <th></th>\n",
              "      <th>Label</th>\n",
              "    </tr>\n",
              "    <tr>\n",
              "      <th>ImageId</th>\n",
              "      <th></th>\n",
              "    </tr>\n",
              "  </thead>\n",
              "  <tbody>\n",
              "    <tr>\n",
              "      <th>1</th>\n",
              "      <td>2</td>\n",
              "    </tr>\n",
              "    <tr>\n",
              "      <th>2</th>\n",
              "      <td>0</td>\n",
              "    </tr>\n",
              "    <tr>\n",
              "      <th>3</th>\n",
              "      <td>9</td>\n",
              "    </tr>\n",
              "    <tr>\n",
              "      <th>4</th>\n",
              "      <td>0</td>\n",
              "    </tr>\n",
              "    <tr>\n",
              "      <th>5</th>\n",
              "      <td>3</td>\n",
              "    </tr>\n",
              "  </tbody>\n",
              "</table>\n",
              "</div>\n",
              "      <button class=\"colab-df-convert\" onclick=\"convertToInteractive('df-fbc9ffbc-40cf-4ec3-b692-c693c3fd9175')\"\n",
              "              title=\"Convert this dataframe to an interactive table.\"\n",
              "              style=\"display:none;\">\n",
              "        \n",
              "  <svg xmlns=\"http://www.w3.org/2000/svg\" height=\"24px\"viewBox=\"0 0 24 24\"\n",
              "       width=\"24px\">\n",
              "    <path d=\"M0 0h24v24H0V0z\" fill=\"none\"/>\n",
              "    <path d=\"M18.56 5.44l.94 2.06.94-2.06 2.06-.94-2.06-.94-.94-2.06-.94 2.06-2.06.94zm-11 1L8.5 8.5l.94-2.06 2.06-.94-2.06-.94L8.5 2.5l-.94 2.06-2.06.94zm10 10l.94 2.06.94-2.06 2.06-.94-2.06-.94-.94-2.06-.94 2.06-2.06.94z\"/><path d=\"M17.41 7.96l-1.37-1.37c-.4-.4-.92-.59-1.43-.59-.52 0-1.04.2-1.43.59L10.3 9.45l-7.72 7.72c-.78.78-.78 2.05 0 2.83L4 21.41c.39.39.9.59 1.41.59.51 0 1.02-.2 1.41-.59l7.78-7.78 2.81-2.81c.8-.78.8-2.07 0-2.86zM5.41 20L4 18.59l7.72-7.72 1.47 1.35L5.41 20z\"/>\n",
              "  </svg>\n",
              "      </button>\n",
              "      \n",
              "  <style>\n",
              "    .colab-df-container {\n",
              "      display:flex;\n",
              "      flex-wrap:wrap;\n",
              "      gap: 12px;\n",
              "    }\n",
              "\n",
              "    .colab-df-convert {\n",
              "      background-color: #E8F0FE;\n",
              "      border: none;\n",
              "      border-radius: 50%;\n",
              "      cursor: pointer;\n",
              "      display: none;\n",
              "      fill: #1967D2;\n",
              "      height: 32px;\n",
              "      padding: 0 0 0 0;\n",
              "      width: 32px;\n",
              "    }\n",
              "\n",
              "    .colab-df-convert:hover {\n",
              "      background-color: #E2EBFA;\n",
              "      box-shadow: 0px 1px 2px rgba(60, 64, 67, 0.3), 0px 1px 3px 1px rgba(60, 64, 67, 0.15);\n",
              "      fill: #174EA6;\n",
              "    }\n",
              "\n",
              "    [theme=dark] .colab-df-convert {\n",
              "      background-color: #3B4455;\n",
              "      fill: #D2E3FC;\n",
              "    }\n",
              "\n",
              "    [theme=dark] .colab-df-convert:hover {\n",
              "      background-color: #434B5C;\n",
              "      box-shadow: 0px 1px 3px 1px rgba(0, 0, 0, 0.15);\n",
              "      filter: drop-shadow(0px 1px 2px rgba(0, 0, 0, 0.3));\n",
              "      fill: #FFFFFF;\n",
              "    }\n",
              "  </style>\n",
              "\n",
              "      <script>\n",
              "        const buttonEl =\n",
              "          document.querySelector('#df-fbc9ffbc-40cf-4ec3-b692-c693c3fd9175 button.colab-df-convert');\n",
              "        buttonEl.style.display =\n",
              "          google.colab.kernel.accessAllowed ? 'block' : 'none';\n",
              "\n",
              "        async function convertToInteractive(key) {\n",
              "          const element = document.querySelector('#df-fbc9ffbc-40cf-4ec3-b692-c693c3fd9175');\n",
              "          const dataTable =\n",
              "            await google.colab.kernel.invokeFunction('convertToInteractive',\n",
              "                                                     [key], {});\n",
              "          if (!dataTable) return;\n",
              "\n",
              "          const docLinkHtml = 'Like what you see? Visit the ' +\n",
              "            '<a target=\"_blank\" href=https://colab.research.google.com/notebooks/data_table.ipynb>data table notebook</a>'\n",
              "            + ' to learn more about interactive tables.';\n",
              "          element.innerHTML = '';\n",
              "          dataTable['output_type'] = 'display_data';\n",
              "          await google.colab.output.renderOutput(dataTable, element);\n",
              "          const docLink = document.createElement('div');\n",
              "          docLink.innerHTML = docLinkHtml;\n",
              "          element.appendChild(docLink);\n",
              "        }\n",
              "      </script>\n",
              "    </div>\n",
              "  </div>\n",
              "  "
            ]
          },
          "metadata": {},
          "execution_count": 61
        }
      ]
    },
    {
      "cell_type": "code",
      "source": [
        "submission.to_csv('submission_digit_recognizer_cnn.csv')"
      ],
      "metadata": {
        "id": "UvpU_0VyJd5Z"
      },
      "execution_count": 62,
      "outputs": []
    }
  ]
}